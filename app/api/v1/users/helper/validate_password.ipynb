{
 "cells": [
  {
   "cell_type": "code",
   "execution_count": 2,
   "metadata": {},
   "outputs": [
    {
     "ename": "HTTPException",
     "evalue": "422: Password must contain at least one letter.",
     "output_type": "error",
     "traceback": [
      "\u001b[31m---------------------------------------------------------------------------\u001b[39m",
      "\u001b[31mHTTPException\u001b[39m                             Traceback (most recent call last)",
      "\u001b[36mCell\u001b[39m\u001b[36m \u001b[39m\u001b[32mIn[2]\u001b[39m\u001b[32m, line 27\u001b[39m\n\u001b[32m     23\u001b[39m \u001b[38;5;28;01mclass\u001b[39;00m\u001b[38;5;250m \u001b[39m\u001b[34;01mObject\u001b[39;00m:\n\u001b[32m     24\u001b[39m     password = \u001b[33m\"\u001b[39m\u001b[33m0162260365\u001b[39m\u001b[33m\"\u001b[39m\n\u001b[32m---> \u001b[39m\u001b[32m27\u001b[39m \u001b[43mvalidate_password\u001b[49m\u001b[43m(\u001b[49m\u001b[43mObject\u001b[49m\u001b[43m)\u001b[49m\n",
      "\u001b[36mCell\u001b[39m\u001b[36m \u001b[39m\u001b[32mIn[2]\u001b[39m\u001b[32m, line 18\u001b[39m, in \u001b[36mvalidate_password\u001b[39m\u001b[34m(self)\u001b[39m\n\u001b[32m     15\u001b[39m         errors.append(\u001b[33m\"\u001b[39m\u001b[33mPassword must contain at least one number.\u001b[39m\u001b[33m\"\u001b[39m)\n\u001b[32m     17\u001b[39m     \u001b[38;5;28;01mif\u001b[39;00m errors:\n\u001b[32m---> \u001b[39m\u001b[32m18\u001b[39m         \u001b[38;5;28;01mraise\u001b[39;00m HTTPException(\u001b[32m422\u001b[39m, \u001b[33m\"\u001b[39m\u001b[33m \u001b[39m\u001b[33m\"\u001b[39m.join(errors))\n\u001b[32m     20\u001b[39m \u001b[38;5;28;01mreturn\u001b[39;00m \u001b[33m\"\u001b[39m\u001b[33mValid password\u001b[39m\u001b[33m\"\u001b[39m\n",
      "\u001b[31mHTTPException\u001b[39m: 422: Password must contain at least one letter."
     ]
    }
   ],
   "source": [
    "import re\n",
    "from fastapi import HTTPException\n",
    "\n",
    "\n",
    "def validate_password(self):\n",
    "    if self.password:\n",
    "        errors = []\n",
    "\n",
    "        length = 6\n",
    "        if len(self.password) < length:\n",
    "            errors.append(f\"Password must be at least {length} characters long.\")\n",
    "        if not re.search(r\"[a-zA-Z]\", self.password):\n",
    "            errors.append(\"Password must contain at least one letter.\")\n",
    "        if not re.search(r\"[0-9]\", self.password):\n",
    "            errors.append(\"Password must contain at least one number.\")\n",
    "\n",
    "        if errors:\n",
    "            raise HTTPException(422, \" \".join(errors))\n",
    "\n",
    "    return \"Valid password\"\n",
    "\n",
    "\n",
    "class Object:\n",
    "    password = \"0162260365\"\n",
    "\n",
    "\n",
    "validate_password(Object)"
   ]
  },
  {
   "cell_type": "code",
   "execution_count": 3,
   "metadata": {},
   "outputs": [
    {
     "name": "stdout",
     "output_type": "stream",
     "text": [
      "Hello\n"
     ]
    }
   ],
   "source": [
    "array = []\n",
    "\n",
    "if array:\n",
    "    print(\"Hi\")\n",
    "\n",
    "if not array:\n",
    "    print(\"Hello\")"
   ]
  }
 ],
 "metadata": {
  "kernelspec": {
   "display_name": "Python 3",
   "language": "python",
   "name": "python3"
  },
  "language_info": {
   "codemirror_mode": {
    "name": "ipython",
    "version": 3
   },
   "file_extension": ".py",
   "mimetype": "text/x-python",
   "name": "python",
   "nbconvert_exporter": "python",
   "pygments_lexer": "ipython3",
   "version": "3.13.1"
  }
 },
 "nbformat": 4,
 "nbformat_minor": 2
}
